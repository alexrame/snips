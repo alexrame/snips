{
 "cells": [
  {
   "cell_type": "code",
   "execution_count": 9,
   "metadata": {
    "collapsed": true
   },
   "outputs": [],
   "source": [
    "import numpy as np\n",
    "import json\n",
    "from pprint import pprint\n",
    "import math\n",
    "import matplotlib.pyplot as plt\n",
    "from sklearn.decomposition import PCA\n",
    "from sklearn.ensemble import RandomForestClassifier\n",
    "from sklearn import cross_validation\n",
    "import time\n",
    "from load_new import getData \n",
    "%matplotlib inline"
   ]
  },
  {
   "cell_type": "code",
   "execution_count": 2,
   "metadata": {
    "collapsed": false
   },
   "outputs": [
    {
     "ename": "NameError",
     "evalue": "name 'trX' is not defined",
     "output_type": "error",
     "traceback": [
      "\u001b[1;31m---------------------------------------------------------------------------\u001b[0m",
      "\u001b[1;31mNameError\u001b[0m                                 Traceback (most recent call last)",
      "\u001b[1;32m<ipython-input-2-3fb3d1dbfccd>\u001b[0m in \u001b[0;36m<module>\u001b[1;34m()\u001b[0m\n\u001b[1;32m----> 1\u001b[1;33m \u001b[1;32mprint\u001b[0m \u001b[0mtrX\u001b[0m\u001b[1;33m.\u001b[0m\u001b[0mshape\u001b[0m\u001b[1;33m\u001b[0m\u001b[0m\n\u001b[0m\u001b[0;32m      2\u001b[0m \u001b[1;32mprint\u001b[0m \u001b[0mteX\u001b[0m\u001b[1;33m.\u001b[0m\u001b[0mshape\u001b[0m\u001b[1;33m\u001b[0m\u001b[0m\n",
      "\u001b[1;31mNameError\u001b[0m: name 'trX' is not defined"
     ]
    }
   ],
   "source": [
    "print trX.shape\n",
    "print teX.shape"
   ]
  },
  {
   "cell_type": "code",
   "execution_count": null,
   "metadata": {
    "collapsed": false
   },
   "outputs": [],
   "source": [
    "__author__ = 'alexandrerame'\n",
    "\n",
    "import numpy as np\n",
    "import json\n",
    "from pprint import pprint\n",
    "import math\n",
    "import matplotlib.pyplot as plt\n",
    "\n",
    "def getData(prop=1./3,oh=1):\n",
    "\n",
    "    trX=[[]]\n",
    "    trY=[]\n",
    "\n",
    "    for y in range(4):\n",
    "        file=getFile(y)\n",
    "        with open(file) as data_file:\n",
    "            data = json.load(data_file)\n",
    "\n",
    "        size=len(data)\n",
    "        print(size)\n",
    "\n",
    "        for i in range(size):\n",
    "            datX=np.array(data[i]['gravityBurst'])\n",
    "            sizeDat=len(datX)\n",
    "\n",
    "            accX=datX.flatten()[0:sizeDat:4][0:31]\n",
    "            accY=datX.flatten()[1:sizeDat:4][0:31]\n",
    "            accZ=datX.flatten()[2:sizeDat:4][0:31]\n",
    "            T=datX[3:sizeDat:4].flatten()[0:31]\n",
    "            fftX=accX#np.fft.fft(accX)\n",
    "            fftY=accY#np.fft.fft(accY)\n",
    "            fftZ=accZ#np.fft.fft(accZ)\n",
    "\n",
    "            #plotprint(fftY,y)\n",
    "\n",
    "\n",
    "            features=np.concatenate((fftX,fftY,fftZ),axis=1)\n",
    "\n",
    "            if len(features)>=93:\n",
    "                trX=np.append(trX,features[0:93])\n",
    "                trY=np.append(trY,y)\n",
    "            #else:\n",
    "                #print(len(features))\n",
    "\n",
    "\n",
    "    trX=np.reshape(trX,(-1,93))\n",
    "    l=len(trX)\n",
    "    cut=l*prop\n",
    "    \n",
    "    arrayRandom=np.random.permutation(l)\n",
    "\n",
    "    trX=trX[arrayRandom,:]\n",
    "    trY=trY[arrayRandom]\n",
    "    if oh:\n",
    "        trY = one_hot(trY, 4)\n",
    "    teX=trX[:cut,:]\n",
    "    teY=trY[:cut]\n",
    "    trX=trX[cut:,:]\n",
    "    trY=trY[cut:]\n",
    "    \n",
    "    return trX,trY,teX,teY\n",
    "\n",
    "def getFile(y):\n",
    "    if y==0:\n",
    "        return \"../data/STILL.json\"\n",
    "    elif y==1:\n",
    "        return \"../data/WALKING.json\"\n",
    "    elif y==2:\n",
    "        return \"../data/RUNNING.json\"\n",
    "    else:\n",
    "        return \"../data/BIKING.json\"\n",
    "\n",
    "def one_hot(x,n):\n",
    "    if type(x) == list:\n",
    "        x = np.array(x)\n",
    "    x = x.flatten().astype(int)\n",
    "    o_h = np.zeros((len(x),n))\n",
    "    o_h[np.arange(len(x)),x] = 1\n",
    "    return o_h\n",
    "\n",
    "def plotprint(vec,y):\n",
    "    if y==0:\n",
    "        plt.plot(vec,color='r')\n",
    "    if y==1:\n",
    "        plt.plot(vec,color='b')\n",
    "    if y==2:\n",
    "        plt.plot(vec,color='g')\n",
    "    if y==3:\n",
    "        plt.plot(vec,color='m')\n",
    "\n"
   ]
  },
  {
   "cell_type": "code",
   "execution_count": 7,
   "metadata": {
    "collapsed": true
   },
   "outputs": [],
   "source": [
    "__author__ = 'alexandrerame'\n",
    "\n",
    "import numpy as np\n",
    "import json\n",
    "from pprint import pprint\n",
    "import math\n",
    "import matplotlib.pyplot as plt\n",
    "\n",
    "def getData_new(pca=True, with_sfft=True, win_s=5, step=3, prop=1./3, oh=1):\n",
    "\n",
    "    trX=[[]]\n",
    "    trY=[]\n",
    "\n",
    "    for y in range(4):\n",
    "        file=getFile(y)\n",
    "        with open(file) as data_file:\n",
    "            data = json.load(data_file)\n",
    "\n",
    "        size=len(data)\n",
    "        print(size)\n",
    "\n",
    "        for i in range(size):\n",
    "            datX=np.array(data[i]['gravityBurst'])\n",
    "            sizeDat=len(datX)\n",
    "\n",
    "            accX=datX.flatten()[0:sizeDat:4][0:31].reshape((-1,1))\n",
    "            accY=datX.flatten()[1:sizeDat:4][0:31].reshape((-1,1))\n",
    "            accZ=datX.flatten()[2:sizeDat:4][0:31].reshape((-1,1))\n",
    "            T=datX[3:sizeDat:4].flatten()[0:31]\n",
    "            \n",
    "            if len(accX)!=31 or len(accY)!=31 or len(accZ)!=31:\n",
    "                continue\n",
    "            # fourrier fenetre\n",
    "            fft=np.array( [sfft(accX, win_s, step), sfft(accY, win_s, step), sfft(accZ, win_s, step)] ).reshape((1,-1))\n",
    "            \n",
    "            # main directions\n",
    "            pca=PCA()\n",
    "            #print accX.shape\n",
    "            #print accY.shape\n",
    "            #print accZ.shape\n",
    "            \n",
    "            temp=np.concatenate((accX, accY, accZ), axis=1)\n",
    "            m=np.mean(temp, axis=0).reshape((1,-1))\n",
    "            temp=temp-m\n",
    "            temp=pca.fit_transform(temp)\n",
    "            var=np.var(temp, axis=0).reshape((1,-1))\n",
    "            for j in xrange(3):\n",
    "                temp[:,j]=np.fft.fft(temp[:,j])\n",
    "            \n",
    "            main_sfft=sfft(temp[:,0], win_s, step).reshape((1,-1))\n",
    "            \n",
    "            # directions + var\n",
    "            directions=pca.components_.reshape((1,-1))\n",
    "            \n",
    "\n",
    "            features=np.concatenate((fft, temp.reshape((1, -1)), main_sfft, m, var, directions), axis=1)\n",
    "            features=features[0,:]\n",
    "            \n",
    "            # je laisse a voir\n",
    "            if len(features)>=93:\n",
    "                trX=np.append(trX,features)\n",
    "                trY=np.append(trY,y)\n",
    "            #else:\n",
    "                #print(len(features))\n",
    "\n",
    "\n",
    "    trX=np.reshape(trX,(-1,len(features)))\n",
    "    l=len(trX)\n",
    "    cut=l*prop\n",
    "    \n",
    "    arrayRandom=np.random.permutation(l)\n",
    "\n",
    "    trX=trX[arrayRandom,:]\n",
    "    trY=trY[arrayRandom]\n",
    "    if oh:\n",
    "        trY = one_hot(trY, 4)\n",
    "    teX=trX[:cut,:]\n",
    "    teY=trY[:cut]\n",
    "    trX=trX[cut:,:]\n",
    "    trY=trY[cut:]\n",
    "    \n",
    "    return trX,trY,teX,teY\n",
    "\n"
   ]
  },
  {
   "cell_type": "code",
   "execution_count": 11,
   "metadata": {
    "collapsed": false
   },
   "outputs": [
    {
     "name": "stdout",
     "output_type": "stream",
     "text": [
      "2224\n",
      "3106\n",
      "536\n",
      "759\n",
      "450\n",
      "(4283, 450)\n",
      "(4283, 4)\n"
     ]
    },
    {
     "name": "stderr",
     "output_type": "stream",
     "text": [
      "load_new.py:53: ComplexWarning: Casting complex values to real discards the imaginary part\n",
      "  temp[:,j]=np.fft.fft(temp[:,j])\n"
     ]
    }
   ],
   "source": [
    "trX,trY,teX,teY = getData()\n",
    "trYbis=np.dot(trY, range(0,4))\n",
    "teYbis=np.dot(teY, range(0,4))\n",
    "print trX.shape\n",
    "print trY.shape"
   ]
  },
  {
   "cell_type": "code",
   "execution_count": 214,
   "metadata": {
    "collapsed": false
   },
   "outputs": [
    {
     "name": "stdout",
     "output_type": "stream",
     "text": [
      "2224\n",
      "3106\n",
      "536\n",
      "759\n",
      "(4283, 288)\n",
      "(4283, 4)\n"
     ]
    },
    {
     "name": "stderr",
     "output_type": "stream",
     "text": [
      "/home/notebook/.venv/lib/python2.7/site-packages/IPython/kernel/__main__.py:48: ComplexWarning: Casting complex values to real discards the imaginary part\n"
     ]
    }
   ],
   "source": [
    "trX,trY,teX,teY = getData_new()\n",
    "trYbis=np.dot(trY, range(0,4))\n",
    "teYbis=np.dot(teY, range(0,4))\n",
    "print trX.shape\n",
    "print trY.shape"
   ]
  },
  {
   "cell_type": "code",
   "execution_count": 215,
   "metadata": {
    "collapsed": true
   },
   "outputs": [],
   "source": [
    "\n",
    "def burst_fft(burst):\n",
    "    burst_pca=np.copy(burst)\n",
    "    for i in xrange(burst.shape[0]):\n",
    "        temp = burst_pca[i,:].reshape((3,-1))\n",
    "        temp = np.transpose(temp)\n",
    "        for j in xrange(3):\n",
    "            temp[:,j]=np.fft.fft(temp[:,j])\n",
    "        burst_pca[i,:]=temp.reshape((1,-1))\n",
    "        \n",
    "        #print pca.components_.shape\n",
    "    #print comp[:3,:]\n",
    "    return burst_pca\n",
    "\n",
    "\n",
    "def burst_sfft(burst, win_s=5, step=3):\n",
    "    burst_pca=np.copy(burst)\n",
    "    first=True\n",
    "    res=np.array([])\n",
    "    pca=PCA()\n",
    "    comp=np.array([]).reshape((0,9))\n",
    "    mean_vec=np.array([]).reshape((0,3))\n",
    "    for i in xrange(burst.shape[0]):\n",
    "        temp = burst_pca[i,:].reshape((3,-1))\n",
    "        temp = np.transpose(temp)\n",
    "        m=np.mean(temp, axis=0).reshape((1,-1))\n",
    "        temp=temp-m\n",
    "        temp[:,:3]=pca.fit_transform(temp[:,:3])\n",
    "        pca.fit_transform(temp[:,:3])\n",
    "        vec=np.array([])\n",
    "        for j in xrange(3):\n",
    "            if j==0:\n",
    "                vec=np.append(vec, sfft(temp[:,j], win_s, step) )\n",
    "            else:\n",
    "                vec=np.append(vec, np.fft.fft(temp[:,j]) )\n",
    "        vec=np.array(vec).reshape((1, -1))\n",
    "        if first:\n",
    "            first=False\n",
    "            res=vec\n",
    "        else:\n",
    "            res=np.concatenate((res, vec), axis=0 )\n",
    "        \n",
    "        comp=np.append(comp, pca.components_.reshape((1,-1)), axis=0 )\n",
    "        mean_vec=np.append(mean_vec, m, axis=0 )\n",
    "        #print pca.components_.shape\n",
    "    #print comp[:3,:]\n",
    "    return np.concatenate((res, comp, mean_vec), axis=1)\n",
    "\n",
    "def burst_pca(burst):\n",
    "    burst_pca=np.copy(burst)\n",
    "    pca=PCA()\n",
    "    comp=np.array([]).reshape((0,9))\n",
    "    mean_vec=np.array([]).reshape((0,3))\n",
    "    for i in xrange(burst.shape[0]):\n",
    "        temp = burst_pca[i,:].reshape((3,-1))\n",
    "        temp = np.transpose(temp)\n",
    "        m=np.mean(temp, axis=0).reshape((1,-1))\n",
    "        #print m.shape\n",
    "        temp=temp-m\n",
    "        temp[:,:3]=pca.fit_transform(temp[:,:3])\n",
    "        \n",
    "        for j in xrange(3):\n",
    "            temp[:,j]=np.fft.fft(temp[:,j])\n",
    "        \n",
    "        burst_pca[i,:]=temp.reshape((1,-1))\n",
    "        \n",
    "        comp=np.append(comp, pca.components_.reshape((1,-1)), axis=0 )\n",
    "        mean_vec=np.append(mean_vec, m, axis=0 )\n",
    "        #print pca.components_.shape\n",
    "    #print comp[:3,:]\n",
    "    return np.concatenate((burst_pca, comp, mean_vec), axis=1)\n"
   ]
  },
  {
   "cell_type": "code",
   "execution_count": 171,
   "metadata": {
    "collapsed": false
   },
   "outputs": [
    {
     "name": "stderr",
     "output_type": "stream",
     "text": [
      "/home/notebook/.venv/lib/python2.7/site-packages/IPython/kernel/__main__.py:74: ComplexWarning: Casting complex values to real discards the imaginary part\n",
      "/home/notebook/.venv/lib/python2.7/site-packages/IPython/kernel/__main__.py:8: ComplexWarning: Casting complex values to real discards the imaginary part\n"
     ]
    }
   ],
   "source": [
    "trXp=burst_pca(trX)\n",
    "teXp=burst_pca(teX)\n",
    "\n",
    "trXf=burst_fft(trX)\n",
    "teXf=burst_fft(teX)\n",
    "\n",
    "trXs=burst_sfft(trX)\n",
    "teXs=burst_sfft(teX)\n"
   ]
  },
  {
   "cell_type": "code",
   "execution_count": 172,
   "metadata": {
    "collapsed": false
   },
   "outputs": [
    {
     "name": "stdout",
     "output_type": "stream",
     "text": [
      "(4283, 93)\n",
      "(4283, 119)\n"
     ]
    }
   ],
   "source": [
    "print trXf.shape\n",
    "print trXs.shape"
   ]
  },
  {
   "cell_type": "code",
   "execution_count": 13,
   "metadata": {
    "collapsed": false
   },
   "outputs": [
    {
     "data": {
      "text/plain": [
       "0.9243344231667445"
      ]
     },
     "execution_count": 13,
     "metadata": {},
     "output_type": "execute_result"
    }
   ],
   "source": [
    "clf=RandomForestClassifier(n_estimators=3000)\n",
    "clf.fit(trX, trYbis)\n",
    "p=clf.predict(teX)\n",
    "1.0*np.sum(p==teYbis)/len(teYbis)"
   ]
  },
  {
   "cell_type": "code",
   "execution_count": null,
   "metadata": {
    "collapsed": true
   },
   "outputs": [],
   "source": [
    "0.8916394208313873\n",
    "0.9140588510042037\n",
    "0.9243344231667445"
   ]
  },
  {
   "cell_type": "code",
   "execution_count": 130,
   "metadata": {
    "collapsed": false
   },
   "outputs": [
    {
     "data": {
      "text/plain": [
       "0.9140588510042037"
      ]
     },
     "execution_count": 130,
     "metadata": {},
     "output_type": "execute_result"
    }
   ],
   "source": [
    "clf=RandomForestClassifier(n_estimators=2000)\n",
    "clf.fit(trXp, trYbis)\n",
    "p=clf.predict(teXp)\n",
    "1.0*np.sum(p==teYbis)/len(teYbis)"
   ]
  },
  {
   "cell_type": "code",
   "execution_count": 216,
   "metadata": {
    "collapsed": false
   },
   "outputs": [
    {
     "data": {
      "text/plain": [
       "0.9252685660906118"
      ]
     },
     "execution_count": 216,
     "metadata": {},
     "output_type": "execute_result"
    }
   ],
   "source": [
    "clf=RandomForestClassifier(n_estimators=3000)\n",
    "clf.fit(trX, trYbis)\n",
    "p=clf.predict(teX)\n",
    "1.0*np.sum(p==teYbis)/len(teYbis)"
   ]
  },
  {
   "cell_type": "code",
   "execution_count": null,
   "metadata": {
    "collapsed": true
   },
   "outputs": [],
   "source": [
    "c"
   ]
  },
  {
   "cell_type": "code",
   "execution_count": null,
   "metadata": {
    "collapsed": true
   },
   "outputs": [],
   "source": []
  },
  {
   "cell_type": "code",
   "execution_count": 223,
   "metadata": {
    "collapsed": false
   },
   "outputs": [
    {
     "data": {
      "image/png": "[encoded data removed]",
      "text/plain": [
       "<matplotlib.figure.Figure at 0x7f3a4ae5b510>"
      ]
     },
     "metadata": {},
     "output_type": "display_data"
    }
   ],
   "source": [
    "d=trX[349,:].reshape((3,-1))\n",
    "#d=d-np.mean(d, axis=1).reshape((-1,1))\n",
    "\n",
    "for i in xrange(3):\n",
    "    plt.plot(d[i,:])\n",
    "\n",
    "pca=PCA()\n",
    "\n"
   ]
  },
  {
   "cell_type": "code",
   "execution_count": 89,
   "metadata": {
    "collapsed": false
   },
   "outputs": [
    {
     "data": {
      "text/plain": [
       "(3, 1)"
      ]
     },
     "execution_count": 89,
     "metadata": {},
     "output_type": "execute_result"
    }
   ],
   "source": [
    "np.mean(d, axis=1).reshape((-1,1)).shape"
   ]
  },
  {
   "cell_type": "code",
   "execution_count": 166,
   "metadata": {
    "collapsed": false
   },
   "outputs": [
    {
     "data": {
      "image/png": "[encoded data removed]",
      "text/plain": [
       "<matplotlib.figure.Figure at 0x7f3a4acdbf10>"
      ]
     },
     "metadata": {},
     "output_type": "display_data"
    }
   ],
   "source": [
    "d=np.transpose(trX[302,:].reshape((3,-1)))\n",
    "#d=d.reshape((-1,3))\n",
    "d=d-np.mean(d, axis=0).reshape((1,-1))\n",
    "\n",
    "for i in xrange(3):\n",
    "    plt.plot(d[:,i])\n",
    "\n"
   ]
  },
  {
   "cell_type": "code",
   "execution_count": 169,
   "metadata": {
    "collapsed": false
   },
   "outputs": [
    {
     "data": {
      "image/png": "[encoded data removed]",
      "text/plain": [
       "<matplotlib.figure.Figure at 0x7f3a4ac9b310>"
      ]
     },
     "metadata": {},
     "output_type": "display_data"
    }
   ],
   "source": [
    "pca=PCA()\n",
    "d=pca.fit_transform(d)\n",
    "plt.plot(d[:,0])\n",
    "for i in xrange(3):\n",
    "    plt.plot(d[:,i])"
   ]
  },
  {
   "cell_type": "code",
   "execution_count": 45,
   "metadata": {
    "collapsed": false
   },
   "outputs": [
    {
     "data": {
      "text/plain": [
       "array([ 0.43599867, -0.48214358,  0.04614491])"
      ]
     },
     "execution_count": 45,
     "metadata": {},
     "output_type": "execute_result"
    }
   ],
   "source": [
    "np.mean(d, axis=1)"
   ]
  },
  {
   "cell_type": "code",
   "execution_count": 49,
   "metadata": {
    "collapsed": false
   },
   "outputs": [
    {
     "data": {
      "text/plain": [
       "(31,)"
      ]
     },
     "execution_count": 49,
     "metadata": {},
     "output_type": "execute_result"
    }
   ],
   "source": [
    "trYbis=np.dot(trY, range(0,4))\n",
    "teYbis=np.dot(teY, range(0,4))"
   ]
  },
  {
   "cell_type": "code",
   "execution_count": 205,
   "metadata": {
    "collapsed": false
   },
   "outputs": [
    {
     "name": "stdout",
     "output_type": "stream",
     "text": [
      "(1, 2)\n"
     ]
    }
   ],
   "source": [
    "a=np.ones((1,2))\n",
    "a.reshape((2,))\n",
    "print a.shape"
   ]
  },
  {
   "cell_type": "code",
   "execution_count": null,
   "metadata": {
    "collapsed": true
   },
   "outputs": [],
   "source": []
  }
 ],
 "metadata": {
  "kernelspec": {
   "display_name": "Python 2",
   "language": "python",
   "name": "python2"
  },
  "language_info": {
   "codemirror_mode": {
    "name": "ipython",
    "version": 2
   },
   "file_extension": ".py",
   "mimetype": "text/x-python",
   "name": "python",
   "nbconvert_exporter": "python",
   "pygments_lexer": "ipython2",
   "version": "2.7.9"
  }
 },
 "nbformat": 4,
 "nbformat_minor": 0
}
