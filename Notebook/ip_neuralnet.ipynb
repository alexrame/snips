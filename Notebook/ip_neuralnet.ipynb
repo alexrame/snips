{
 "cells": [
  {
   "cell_type": "code",
   "execution_count": 7,
   "metadata": {
    "collapsed": false
   },
   "outputs": [],
   "source": [
    "import theano\n",
    "from theano import tensor as T\n",
    "from theano.sandbox.rng_mrg import MRG_RandomStreams as RandomStreams\n",
    "import numpy as np\n",
    "from loadfft import getData\n",
    "import math\n",
    "\n",
    "srng = RandomStreams()\n",
    "\n",
    "def floatX(X):\n",
    "    return np.asarray(X, dtype=theano.config.floatX)\n",
    "\n",
    "def init_weights(shape):\n",
    "    return theano.shared(floatX(np.random.randn(*shape) * 0.01))\n",
    "\n",
    "def rectify(X):\n",
    "    return T.maximum(X, 0.)\n",
    "\n",
    "def softmax(X):\n",
    "    e_x = T.exp(X - X.max(axis=1).dimshuffle(0, 'x'))\n",
    "    return e_x / e_x.sum(axis=1).dimshuffle(0, 'x')\n",
    "\n",
    "def RMSprop(cost, params, lr=0.001, rho=0.9, epsilon=1e-6):\n",
    "    grads = T.grad(cost=cost, wrt=params)\n",
    "    updates = []\n",
    "    for p, g in zip(params, grads):\n",
    "        acc = theano.shared(p.get_value() * 0.)\n",
    "        acc_new = rho * acc + (1 - rho) * g ** 2\n",
    "        gradient_scaling = T.sqrt(acc_new + epsilon)\n",
    "        g = g / gradient_scaling\n",
    "        updates.append((acc, acc_new))\n",
    "        updates.append((p, p - lr * g))\n",
    "    return updates\n",
    "\n",
    "def dropout(X, p=0.):\n",
    "    if p > 0:\n",
    "        retain_prob = 1 - p\n",
    "        X *= srng.binomial(X.shape, p=retain_prob, dtype=theano.config.floatX)\n",
    "        X /= retain_prob\n",
    "    return X\n"
   ]
  },
  {
   "cell_type": "code",
   "execution_count": 8,
   "metadata": {
    "collapsed": false
   },
   "outputs": [
    {
     "name": "stdout",
     "output_type": "stream",
     "text": [
      "2224\n",
      "3106\n",
      "536\n",
      "759\n"
     ]
    }
   ],
   "source": [
    "trX,trY,teX,teY=getData(oh=1)"
   ]
  },
  {
   "cell_type": "code",
   "execution_count": 9,
   "metadata": {
    "collapsed": true
   },
   "outputs": [],
   "source": [
    "def model(X, w, p_drop_input, p_drop_hidden):\n",
    "    X = dropout(X, p_drop_input)\n",
    "    H={}\n",
    "    h=[]\n",
    "    H[\"h0\"]=X\n",
    "    nbLay=len(w)-1\n",
    "    for i in range(1,nbLay+1):\n",
    "        id=\"h\"+`i`\n",
    "        idp=\"h\"+`i-1`\n",
    "        H[id] = rectify(T.dot(H[idp], w[i-1]))\n",
    "        H[id] = dropout(H[id], p_drop_hidden)\n",
    "        h=np.append(h,H[id])\n",
    "    py_x = softmax(T.dot(H[id], w[i]))\n",
    "    return h, py_x\n",
    "\n",
    "def loss(result,Y):\n",
    "    l=len(Y)\n",
    "    err=0\n",
    "    for i in range(l):\n",
    "        err+=-math.log(result[i,Y[i]])\n",
    "    return err/l\n",
    "\n",
    "def one_hot(x,n):\n",
    "    if type(x) == list:\n",
    "        x = np.array(x)\n",
    "    x = x.flatten().astype(int)\n",
    "    o_h = np.zeros((len(x),n))\n",
    "    o_h[np.arange(len(x)),x] = 1\n",
    "    return o_h\n",
    "\n",
    "    \n"
   ]
  },
  {
   "cell_type": "code",
   "execution_count": 13,
   "metadata": {
    "collapsed": false
   },
   "outputs": [
    {
     "name": "stdout",
     "output_type": "stream",
     "text": [
      "2 3 100 0 0\n",
      "236.443763208\n",
      "2.9619058228\n",
      "4283\n",
      "1 3 0.461825823021 1.00038153878 0.481550677254\n",
      "0.881840229289 0.00703385966472 0.0178950271077\n",
      "2 3 0.738968013075 0.696749575213 0.732368052312\n",
      "0.73103068153 0.0103915367519 0.0424203539006\n"
     ]
    },
    {
     "data": {
      "text/plain": [
       "[<TensorType(float64, matrix)>,\n",
       " <TensorType(float64, matrix)>,\n",
       " <TensorType(float64, matrix)>,\n",
       " <TensorType(float64, matrix)>]"
      ]
     },
     "execution_count": 13,
     "metadata": {},
     "output_type": "execute_result"
    }
   ],
   "source": [
    "#def neuraln(trX,trY,nb_step=5,nbLay=3,nbNodes=100,p_drop_input=0.2,p_drop_hidden=0.4,lambda2=10000,size_output=4):\n",
    "import random\n",
    "random.seed(1)\n",
    "np.random.seed(1)\n",
    "\n",
    "nb_step=2\n",
    "nbLay=3\n",
    "nbNodes=100\n",
    "p_drop_input=0\n",
    "p_drop_hidden=0\n",
    "lambda2=10000\n",
    "size_input=93\n",
    "size_output=4\n",
    "\n",
    "if 1:   \n",
    "    print nb_step,nbLay,nbNodes,p_drop_input,p_drop_hidden\n",
    "    check=nb_step/10\n",
    "    \n",
    "    params=[init_weights((size_input,nbNodes))]\n",
    "    params.extend([init_weights((nbNodes,nbNodes)) for i in range(nbLay-1)])\n",
    "    params.append(init_weights((nbNodes, size_output)))\n",
    "    \n",
    "    X = T.fmatrix()\n",
    "    Y = T.fmatrix()\n",
    "\n",
    "    noise_h, noise_py_x = model(X,params, p_drop_input, p_drop_hidden)\n",
    "    h, py_x = model(X, params,0,0)\n",
    "    y_x = T.argmax(py_x, axis=1)\n",
    "    \n",
    "    \n",
    "\n",
    "    L1=T.sum([T.sum(abs(params[i])) for i in range(len(params))])\n",
    "    print(L1.eval())\n",
    "    L2 = T.sum([T.sum((params[i])**2) for i in range(len(params))])\n",
    "    print(L2.eval())\n",
    "    cost = T.mean(T.nnet.categorical_crossentropy(noise_py_x, Y))+0.00005*L1+0.005*L2\n",
    "    \n",
    "    updates = RMSprop(cost, params, lr=0.001)\n",
    "    \n",
    "    train = theano.function(inputs=[X, Y], outputs=cost, updates=updates, allow_input_downcast=True)\n",
    "    predict = theano.function(inputs=[X], outputs=y_x, allow_input_downcast=True)\n",
    "    predictProb=theano.function(inputs=[X], outputs=py_x, allow_input_downcast=True)\n",
    "\n",
    "    print(len(trX))\n",
    "    i=0\n",
    "    while i<nb_step:\n",
    "        i+=1\n",
    "        for start, end in zip(range(0, len(trX), 10), range(10, len(trX), 10)):\n",
    "            cost = train(trX[start:end], trY[start:end])\n",
    "        #cost=train(trX,trY)\n",
    "        scoreTr=np.mean(np.argmax(trY, axis=1) == predict(trX))\n",
    "        \n",
    "        if i%1==0:#(nb_step/1)==0:\n",
    "            result=predictProb(trX)\n",
    "            argY=np.argmax(trY, axis=1)\n",
    "            logTr=loss(result,argY)\n",
    "            print i,nbLay,scoreTr,logTr, np.mean(np.argmax(teY, axis=1) == predict(teX))\n",
    "            print cost,0.00005*L1.eval(),0.005*L2.eval()\n",
    "\n",
    "params"
   ]
  },
  {
   "cell_type": "code",
   "execution_count": 23,
   "metadata": {
    "collapsed": false
   },
   "outputs": [],
   "source": [
    "params=[init_weights((size_input,nbNodes))]\n",
    "params.extend([init_weights((nbNodes,nbNodes)) for i in range(nbLay-1)])\n",
    "params.append(init_weights((nbNodes, size_output)))"
   ]
  },
  {
   "cell_type": "code",
   "execution_count": 34,
   "metadata": {
    "collapsed": false
   },
   "outputs": [],
   "source": [
    "L2_sqr = T.sum(L2_reg(np.array(params)))\n"
   ]
  },
  {
   "cell_type": "code",
   "execution_count": 36,
   "metadata": {
    "collapsed": false
   },
   "outputs": [
    {
     "data": {
      "text/plain": [
       "array(2.9730365943150203)"
      ]
     },
     "execution_count": 36,
     "metadata": {},
     "output_type": "execute_result"
    }
   ],
   "source": [
    "L2_sqr.eval()"
   ]
  },
  {
   "cell_type": "code",
   "execution_count": 37,
   "metadata": {
    "collapsed": false
   },
   "outputs": [],
   "source": [
    "params=[init_weights((size_input,nbNodes))]\n",
    "params.extend([init_weights((nbNodes,nbNodes)) for i in range(nbLay-1)])\n",
    "params.append(init_weights((nbNodes, size_output)))"
   ]
  },
  {
   "cell_type": "code",
   "execution_count": 38,
   "metadata": {
    "collapsed": false
   },
   "outputs": [
    {
     "data": {
      "text/plain": [
       "array(2.9730365943150203)"
      ]
     },
     "execution_count": 38,
     "metadata": {},
     "output_type": "execute_result"
    }
   ],
   "source": [
    "L2_sqr.eval()"
   ]
  },
  {
   "cell_type": "code",
   "execution_count": 39,
   "metadata": {
    "collapsed": false
   },
   "outputs": [
    {
     "data": {
      "text/plain": [
       "array(2.950055420821496)"
      ]
     },
     "execution_count": 39,
     "metadata": {},
     "output_type": "execute_result"
    }
   ],
   "source": [
    "L2_sqr = T.sum(L2_reg(np.array(params)))\n",
    "L2_sqr.eval()"
   ]
  },
  {
   "cell_type": "code",
   "execution_count": 51,
   "metadata": {
    "collapsed": false
   },
   "outputs": [
    {
     "data": {
      "text/plain": [
       "Elemwise{add,no_inplace}.0"
      ]
     },
     "execution_count": 51,
     "metadata": {},
     "output_type": "execute_result"
    }
   ],
   "source": [
    "(np.array(params)**2).sum()"
   ]
  },
  {
   "cell_type": "code",
   "execution_count": null,
   "metadata": {
    "collapsed": true
   },
   "outputs": [],
   "source": [
    "    # symbolic Theano variable that represents the L1 regularization term\n",
    "    L1  = T.sum(abs(P))\n",
    "\n",
    "    # symbolic Theano variable that represents the squared L2 term\n",
    "    L2_sqr = T.sum(P ** 2)"
   ]
  },
  {
   "cell_type": "code",
   "execution_count": 27,
   "metadata": {
    "collapsed": false
   },
   "outputs": [],
   "source": [
    "L1  = T.sum(abs(params[0]))"
   ]
  },
  {
   "cell_type": "code",
   "execution_count": 28,
   "metadata": {
    "collapsed": false
   },
   "outputs": [
    {
     "data": {
      "text/plain": [
       "Sum{acc_dtype=float64}.0"
      ]
     },
     "execution_count": 28,
     "metadata": {},
     "output_type": "execute_result"
    }
   ],
   "source": [
    "L1"
   ]
  },
  {
   "cell_type": "code",
   "execution_count": 29,
   "metadata": {
    "collapsed": false
   },
   "outputs": [
    {
     "data": {
      "text/plain": [
       "array(74.1269312188022)"
      ]
     },
     "execution_count": 29,
     "metadata": {},
     "output_type": "execute_result"
    }
   ],
   "source": [
    "L1.eval()"
   ]
  },
  {
   "cell_type": "code",
   "execution_count": 31,
   "metadata": {
    "collapsed": false
   },
   "outputs": [
    {
     "data": {
      "text/plain": [
       "array([[-0.0104779 , -0.01752108,  0.00152609, ..., -0.00392234,\n",
       "        -0.01745957,  0.00917721],\n",
       "       [-0.00469877,  0.00674319, -0.00766582, ..., -0.0167621 ,\n",
       "         0.00526074,  0.00495152],\n",
       "       [ 0.00108371,  0.00532334, -0.00675386, ...,  0.00297124,\n",
       "        -0.00271686, -0.00603125],\n",
       "       ..., \n",
       "       [ 0.01752274, -0.00239432,  0.0007575 , ...,  0.0155845 ,\n",
       "         0.01754397, -0.00494991],\n",
       "       [ 0.01123058, -0.0161085 , -0.00366557, ..., -0.0106872 ,\n",
       "        -0.00701879,  0.00298605],\n",
       "       [-0.00663227,  0.02798805, -0.02102916, ...,  0.00085213,\n",
       "         0.00667791,  0.00051049]])"
      ]
     },
     "execution_count": 31,
     "metadata": {},
     "output_type": "execute_result"
    }
   ],
   "source": [
    "params[0].eval()\n"
   ]
  },
  {
   "cell_type": "code",
   "execution_count": 52,
   "metadata": {
    "collapsed": false
   },
   "outputs": [
    {
     "data": {
      "text/plain": [
       "array([[ 0.8366137 , -0.21894838],\n",
       "       [-0.39036628,  0.52636657],\n",
       "       [ 0.7701492 ,  0.11877007]])"
      ]
     },
     "execution_count": 52,
     "metadata": {},
     "output_type": "execute_result"
    }
   ],
   "source": [
    "np.random.randn(3,2)"
   ]
  },
  {
   "cell_type": "code",
   "execution_count": 59,
   "metadata": {
    "collapsed": false
   },
   "outputs": [
    {
     "name": "stdout",
     "output_type": "stream",
     "text": [
      "714.479668685\n",
      "8.93347761021\n"
     ]
    }
   ],
   "source": [
    "def init_weights(shape):\n",
    "    return theano.shared(floatX(np.random.randn(*shape) * 0.01))\n",
    "\n",
    "params=[init_weights((95,nbNodes))]\n",
    "params.extend([init_weights((nbNodes,nbNodes)) for i in range(nbLay-1)])\n",
    "params.append(init_weights((nbNodes, 600)))\n",
    "\n",
    "L1=T.sum([T.sum(abs(params[i])) for i in range(len(params))])\n",
    "print(L1.eval())\n",
    "L2 = T.sum([T.sum((params[i])**2) for i in range(len(params))])\n",
    "print(L2.eval())"
   ]
  },
  {
   "cell_type": "code",
   "execution_count": null,
   "metadata": {
    "collapsed": true
   },
   "outputs": [],
   "source": []
  }
 ],
 "metadata": {
  "kernelspec": {
   "display_name": "Python 2",
   "language": "python",
   "name": "python2"
  },
  "language_info": {
   "codemirror_mode": {
    "name": "ipython",
    "version": 2
   },
   "file_extension": ".py",
   "mimetype": "text/x-python",
   "name": "python",
   "nbconvert_exporter": "python",
   "pygments_lexer": "ipython2",
   "version": "2.7.9"
  }
 },
 "nbformat": 4,
 "nbformat_minor": 0
}
