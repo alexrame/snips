{
 "cells": [
  {
   "cell_type": "code",
   "execution_count": 7,
   "metadata": {
    "collapsed": false
   },
   "outputs": [
    {
     "name": "stdout",
     "output_type": "stream",
     "text": [
      "2224\n"
     ]
    },
    {
     "ename": "NameError",
     "evalue": "global name 'sfft' is not defined",
     "output_type": "error",
     "traceback": [
      "\u001b[1;31m---------------------------------------------------------------------------\u001b[0m",
      "\u001b[1;31mNameError\u001b[0m                                 Traceback (most recent call last)",
      "\u001b[1;32m<ipython-input-7-81ab98c27404>\u001b[0m in \u001b[0;36m<module>\u001b[1;34m()\u001b[0m\n\u001b[0;32m     10\u001b[0m \u001b[1;32mimport\u001b[0m \u001b[0mrandom\u001b[0m\u001b[1;33m\u001b[0m\u001b[0m\n\u001b[0;32m     11\u001b[0m \u001b[1;33m\u001b[0m\u001b[0m\n\u001b[1;32m---> 12\u001b[1;33m \u001b[0mtrX\u001b[0m\u001b[1;33m,\u001b[0m\u001b[0mtrY\u001b[0m\u001b[1;33m,\u001b[0m\u001b[0mteX\u001b[0m\u001b[1;33m,\u001b[0m\u001b[0mteY\u001b[0m \u001b[1;33m=\u001b[0m \u001b[0mgetData\u001b[0m\u001b[1;33m(\u001b[0m\u001b[0moh\u001b[0m\u001b[1;33m=\u001b[0m\u001b[1;36m0\u001b[0m\u001b[1;33m)\u001b[0m\u001b[1;33m\u001b[0m\u001b[0m\n\u001b[0m",
      "\u001b[1;32m/home/notebook/kaggle-otto/Alex/Snips/load_new.py\u001b[0m in \u001b[0;36mgetData\u001b[1;34m(prop, oh, pca, with_sfft, win_s, step)\u001b[0m\n\u001b[0;32m     32\u001b[0m                 \u001b[1;32mcontinue\u001b[0m\u001b[1;33m\u001b[0m\u001b[0m\n\u001b[0;32m     33\u001b[0m             \u001b[1;31m# fourrier fenetre\u001b[0m\u001b[1;33m\u001b[0m\u001b[1;33m\u001b[0m\u001b[0m\n\u001b[1;32m---> 34\u001b[1;33m             \u001b[0mfft\u001b[0m\u001b[1;33m=\u001b[0m\u001b[0mnp\u001b[0m\u001b[1;33m.\u001b[0m\u001b[0marray\u001b[0m\u001b[1;33m(\u001b[0m \u001b[1;33m[\u001b[0m\u001b[0msfft\u001b[0m\u001b[1;33m(\u001b[0m\u001b[0maccX\u001b[0m\u001b[1;33m,\u001b[0m \u001b[0mwin_s\u001b[0m\u001b[1;33m,\u001b[0m \u001b[0mstep\u001b[0m\u001b[1;33m)\u001b[0m\u001b[1;33m,\u001b[0m \u001b[0msfft\u001b[0m\u001b[1;33m(\u001b[0m\u001b[0maccY\u001b[0m\u001b[1;33m,\u001b[0m \u001b[0mwin_s\u001b[0m\u001b[1;33m,\u001b[0m \u001b[0mstep\u001b[0m\u001b[1;33m)\u001b[0m\u001b[1;33m,\u001b[0m \u001b[0msfft\u001b[0m\u001b[1;33m(\u001b[0m\u001b[0maccZ\u001b[0m\u001b[1;33m,\u001b[0m \u001b[0mwin_s\u001b[0m\u001b[1;33m,\u001b[0m \u001b[0mstep\u001b[0m\u001b[1;33m)\u001b[0m\u001b[1;33m]\u001b[0m \u001b[1;33m)\u001b[0m\u001b[1;33m.\u001b[0m\u001b[0mreshape\u001b[0m\u001b[1;33m(\u001b[0m\u001b[1;33m(\u001b[0m\u001b[1;36m1\u001b[0m\u001b[1;33m,\u001b[0m\u001b[1;33m-\u001b[0m\u001b[1;36m1\u001b[0m\u001b[1;33m)\u001b[0m\u001b[1;33m)\u001b[0m\u001b[1;33m\u001b[0m\u001b[0m\n\u001b[0m\u001b[0;32m     35\u001b[0m \u001b[1;33m\u001b[0m\u001b[0m\n\u001b[0;32m     36\u001b[0m             \u001b[1;31m# main directions\u001b[0m\u001b[1;33m\u001b[0m\u001b[1;33m\u001b[0m\u001b[0m\n",
      "\u001b[1;31mNameError\u001b[0m: global name 'sfft' is not defined"
     ]
    }
   ],
   "source": [
    "import numpy as np\n",
    "from load_new import getData\n",
    "import xgboost as xgb\n",
    "import pandas as pd\n",
    "from sklearn import preprocessing\n",
    "from sklearn import cross_validation\n",
    "import pickle\n",
    "import os.path\n",
    "import scipy\n",
    "import random\n",
    "\n",
    "trX,trY,teX,teY = getData(oh=0)"
   ]
  },
  {
   "cell_type": "code",
   "execution_count": 2,
   "metadata": {
    "collapsed": false
   },
   "outputs": [
    {
     "name": "stderr",
     "output_type": "stream",
     "text": [
      "/home/notebook/.venv/lib/python2.7/site-packages/xgboost-0.32-py2.7.egg/xgboost.py:157: ComplexWarning: Casting complex values to real discards the imaginary part\n",
      "  data = np.array(mat.reshape(mat.size), dtype=np.float32)\n"
     ]
    }
   ],
   "source": [
    "dtrain = xgb.DMatrix(trX, label = trY)\n",
    "dtest = xgb.DMatrix(teX, label = teY)"
   ]
  },
  {
   "cell_type": "code",
   "execution_count": 3,
   "metadata": {
    "collapsed": false
   },
   "outputs": [
    {
     "name": "stdout",
     "output_type": "stream",
     "text": [
      "{'num_class': 4, 'silent': 1, 'nthread': 4, 'eta': 0.1, 'objective': 'multi:softmax', 'max_depth': 6}\n"
     ]
    }
   ],
   "source": [
    "param = {}\n",
    "# use softmax multi-class classification\n",
    "param['objective'] = 'multi:softmax'\n",
    "# scale weight of positive examples\n",
    "param['eta'] = 0.1\n",
    "param['max_depth'] = 6\n",
    "param['silent'] = 1\n",
    "param['nthread'] = 4\n",
    "param['num_class'] = 4\n",
    "print param"
   ]
  },
  {
   "cell_type": "code",
   "execution_count": 4,
   "metadata": {
    "collapsed": false
   },
   "outputs": [
    {
     "name": "stderr",
     "output_type": "stream",
     "text": [
      "[0]\ttrain-merror:0.108445\ttest-merror:0.144022\n",
      "[1]\ttrain-merror:0.101879\ttest-merror:0.147192\n",
      "[2]\ttrain-merror:0.096219\ttest-merror:0.137228\n",
      "[3]\ttrain-merror:0.095766\ttest-merror:0.134511\n",
      "[4]\ttrain-merror:0.093502\ttest-merror:0.134058\n",
      "[5]\ttrain-merror:0.091238\ttest-merror:0.135870\n",
      "[6]\ttrain-merror:0.089654\ttest-merror:0.134511\n",
      "[7]\ttrain-merror:0.086031\ttest-merror:0.133605\n",
      "[8]\ttrain-merror:0.081730\ttest-merror:0.130888\n",
      "[9]\ttrain-merror:0.078107\ttest-merror:0.128623\n",
      "[10]\ttrain-merror:0.078334\ttest-merror:0.127264\n",
      "[11]\ttrain-merror:0.075617\ttest-merror:0.124094\n",
      "[12]\ttrain-merror:0.074032\ttest-merror:0.121377\n",
      "[13]\ttrain-merror:0.070410\ttest-merror:0.120018\n",
      "[14]\ttrain-merror:0.068825\ttest-merror:0.120018\n",
      "[15]\ttrain-merror:0.067693\ttest-merror:0.116395\n",
      "[16]\ttrain-merror:0.063844\ttest-merror:0.112319\n",
      "[17]\ttrain-merror:0.063391\ttest-merror:0.110960\n",
      "[18]\ttrain-merror:0.059995\ttest-merror:0.107337\n",
      "[19]\ttrain-merror:0.058411\ttest-merror:0.106884\n",
      "[20]\ttrain-merror:0.055468\ttest-merror:0.104167\n",
      "[21]\ttrain-merror:0.055015\ttest-merror:0.101902\n",
      "[22]\ttrain-merror:0.051619\ttest-merror:0.099185\n",
      "[23]\ttrain-merror:0.050260\ttest-merror:0.100091\n",
      "[24]\ttrain-merror:0.048902\ttest-merror:0.099638\n",
      "[25]\ttrain-merror:0.047996\ttest-merror:0.095109\n",
      "[26]\ttrain-merror:0.046638\ttest-merror:0.096014\n",
      "[27]\ttrain-merror:0.045280\ttest-merror:0.094203\n",
      "[28]\ttrain-merror:0.044148\ttest-merror:0.093297\n",
      "[29]\ttrain-merror:0.042336\ttest-merror:0.094656\n",
      "[30]\ttrain-merror:0.040299\ttest-merror:0.093750\n",
      "[31]\ttrain-merror:0.037808\ttest-merror:0.092391\n",
      "[32]\ttrain-merror:0.036903\ttest-merror:0.091938\n",
      "[33]\ttrain-merror:0.035997\ttest-merror:0.091486\n",
      "[34]\ttrain-merror:0.035318\ttest-merror:0.091486\n",
      "[35]\ttrain-merror:0.034412\ttest-merror:0.090127\n",
      "[36]\ttrain-merror:0.033960\ttest-merror:0.087862\n",
      "[37]\ttrain-merror:0.031922\ttest-merror:0.087409\n",
      "[38]\ttrain-merror:0.029658\ttest-merror:0.086504\n",
      "[39]\ttrain-merror:0.027394\ttest-merror:0.084692\n",
      "[40]\ttrain-merror:0.025809\ttest-merror:0.083333\n",
      "[41]\ttrain-merror:0.024451\ttest-merror:0.085145\n",
      "[42]\ttrain-merror:0.022866\ttest-merror:0.082428\n",
      "[43]\ttrain-merror:0.022640\ttest-merror:0.082428\n",
      "[44]\ttrain-merror:0.020829\ttest-merror:0.081522\n",
      "[45]\ttrain-merror:0.019923\ttest-merror:0.082880\n",
      "[46]\ttrain-merror:0.020149\ttest-merror:0.083333\n",
      "[47]\ttrain-merror:0.018791\ttest-merror:0.081069\n",
      "[48]\ttrain-merror:0.018338\ttest-merror:0.081522\n",
      "[49]\ttrain-merror:0.017433\ttest-merror:0.080616\n",
      "[50]\ttrain-merror:0.016301\ttest-merror:0.080616\n",
      "[51]\ttrain-merror:0.015395\ttest-merror:0.081069\n",
      "[52]\ttrain-merror:0.014942\ttest-merror:0.079257\n",
      "[53]\ttrain-merror:0.014716\ttest-merror:0.077899\n",
      "[54]\ttrain-merror:0.013357\ttest-merror:0.076993\n",
      "[55]\ttrain-merror:0.012905\ttest-merror:0.076087\n",
      "[56]\ttrain-merror:0.011999\ttest-merror:0.075634\n",
      "[57]\ttrain-merror:0.011773\ttest-merror:0.074275\n",
      "[58]\ttrain-merror:0.010867\ttest-merror:0.074275\n",
      "[59]\ttrain-merror:0.010867\ttest-merror:0.073822\n",
      "[60]\ttrain-merror:0.010641\ttest-merror:0.072917\n",
      "[61]\ttrain-merror:0.009962\ttest-merror:0.072011\n",
      "[62]\ttrain-merror:0.009509\ttest-merror:0.072011\n",
      "[63]\ttrain-merror:0.008603\ttest-merror:0.073370\n",
      "[64]\ttrain-merror:0.008603\ttest-merror:0.072464\n",
      "[65]\ttrain-merror:0.008377\ttest-merror:0.072917\n",
      "[66]\ttrain-merror:0.007924\ttest-merror:0.072464\n",
      "[67]\ttrain-merror:0.007471\ttest-merror:0.073370\n",
      "[68]\ttrain-merror:0.007698\ttest-merror:0.072917\n",
      "[69]\ttrain-merror:0.006566\ttest-merror:0.072917\n",
      "[70]\ttrain-merror:0.005886\ttest-merror:0.072464\n",
      "[71]\ttrain-merror:0.005434\ttest-merror:0.072917\n",
      "[72]\ttrain-merror:0.004981\ttest-merror:0.072464\n",
      "[73]\ttrain-merror:0.004302\ttest-merror:0.072464\n",
      "[74]\ttrain-merror:0.004302\ttest-merror:0.073370\n",
      "[75]\ttrain-merror:0.004075\ttest-merror:0.073370\n",
      "[76]\ttrain-merror:0.003849\ttest-merror:0.073370\n",
      "[77]\ttrain-merror:0.003396\ttest-merror:0.072917\n",
      "[78]\ttrain-merror:0.003396\ttest-merror:0.072464\n",
      "[79]\ttrain-merror:0.002943\ttest-merror:0.072464\n",
      "[80]\ttrain-merror:0.002717\ttest-merror:0.072011\n",
      "[81]\ttrain-merror:0.002490\ttest-merror:0.071558\n",
      "[82]\ttrain-merror:0.002490\ttest-merror:0.071558\n",
      "[83]\ttrain-merror:0.002490\ttest-merror:0.071558\n",
      "[84]\ttrain-merror:0.002490\ttest-merror:0.071558\n",
      "[85]\ttrain-merror:0.002264\ttest-merror:0.072011\n",
      "[86]\ttrain-merror:0.001811\ttest-merror:0.071558\n",
      "[87]\ttrain-merror:0.001811\ttest-merror:0.071558\n",
      "[88]\ttrain-merror:0.001811\ttest-merror:0.071558\n",
      "[89]\ttrain-merror:0.001811\ttest-merror:0.071105\n",
      "[90]\ttrain-merror:0.001811\ttest-merror:0.071105\n",
      "[91]\ttrain-merror:0.001585\ttest-merror:0.071105\n",
      "[92]\ttrain-merror:0.001585\ttest-merror:0.070652\n",
      "[93]\ttrain-merror:0.001585\ttest-merror:0.070652\n",
      "[94]\ttrain-merror:0.001358\ttest-merror:0.070652\n",
      "[95]\ttrain-merror:0.001358\ttest-merror:0.070652\n",
      "[96]\ttrain-merror:0.001132\ttest-merror:0.070652\n",
      "[97]\ttrain-merror:0.001132\ttest-merror:0.070652\n",
      "[98]\ttrain-merror:0.001132\ttest-merror:0.071105\n",
      "[99]\ttrain-merror:0.000679\ttest-merror:0.070652\n"
     ]
    }
   ],
   "source": [
    "watchlist = [ (dtrain,'train'), (dtest, 'test') ]\n",
    "num_round = 100\n",
    "bst = xgb.train(param, dtrain, num_round, watchlist);"
   ]
  },
  {
   "cell_type": "code",
   "execution_count": 29,
   "metadata": {
    "collapsed": false
   },
   "outputs": [],
   "source": [
    "param2= [\n",
    "        ('bst:max_depth', 10),\n",
    "        ('objective', 'multi:softprob'),\n",
    "        ('silent', 1),\n",
    "        ('bst:eta', 0.1),\n",
    "        #('eval_metric', 'mlogloss'),\n",
    "        ('num_class', 4)\n",
    "]"
   ]
  },
  {
   "cell_type": "code",
   "execution_count": 31,
   "metadata": {
    "collapsed": false
   },
   "outputs": [
    {
     "name": "stderr",
     "output_type": "stream",
     "text": [
      "[0]\ttrain-merror:0.310778\ttest-merror:0.647713\n",
      "[1]\ttrain-merror:0.268218\ttest-merror:0.645859\n",
      "[2]\ttrain-merror:0.260257\ttest-merror:0.646477\n",
      "[3]\ttrain-merror:0.238824\ttest-merror:0.618047\n",
      "[4]\ttrain-merror:0.229945\ttest-merror:0.629172\n",
      "[5]\ttrain-merror:0.221678\ttest-merror:0.630408\n",
      "[6]\ttrain-merror:0.212492\ttest-merror:0.635352\n",
      "[7]\ttrain-merror:0.206369\ttest-merror:0.635970\n",
      "[8]\ttrain-merror:0.201470\ttest-merror:0.632880\n",
      "[9]\ttrain-merror:0.200551\ttest-merror:0.608776\n"
     ]
    }
   ],
   "source": [
    "#bst = xgb.train(param2, dtrain, num_round, watchlist );\n"
   ]
  },
  {
   "cell_type": "code",
   "execution_count": 3,
   "metadata": {
    "collapsed": false
   },
   "outputs": [
    {
     "data": {
      "text/plain": [
       "{'bst:colsample_bytree': <scipy.stats._distn_infrastructure.rv_frozen at 0x7fd2d1ec60d0>,\n",
       " 'bst:eta': <scipy.stats._distn_infrastructure.rv_frozen at 0x7fd2d1ec5c50>,\n",
       " 'bst:max_depth': <scipy.stats._distn_infrastructure.rv_frozen at 0x7fd2d1ec5a50>,\n",
       " 'bst:subsample': <scipy.stats._distn_infrastructure.rv_frozen at 0x7fd2d1ec5d50>,\n",
       " 'early_stopping': 100,\n",
       " 'n_round': 800}"
      ]
     },
     "execution_count": 3,
     "metadata": {},
     "output_type": "execute_result"
    }
   ],
   "source": []
  },
  {
   "cell_type": "code",
   "execution_count": 4,
   "metadata": {
    "collapsed": false
   },
   "outputs": [],
   "source": []
  },
  {
   "cell_type": "code",
   "execution_count": null,
   "metadata": {
    "collapsed": true
   },
   "outputs": [],
   "source": []
  }
 ],
 "metadata": {
  "kernelspec": {
   "display_name": "Python 2",
   "language": "python",
   "name": "python2"
  },
  "language_info": {
   "codemirror_mode": {
    "name": "ipython",
    "version": 2
   },
   "file_extension": ".py",
   "mimetype": "text/x-python",
   "name": "python",
   "nbconvert_exporter": "python",
   "pygments_lexer": "ipython2",
   "version": "2.7.9"
  }
 },
 "nbformat": 4,
 "nbformat_minor": 0
}
