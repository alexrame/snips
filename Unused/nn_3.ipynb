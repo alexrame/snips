{
 "cells": [
  {
   "cell_type": "code",
   "execution_count": 1,
   "metadata": {
    "collapsed": false
   },
   "outputs": [
    {
     "name": "stdout",
     "output_type": "stream",
     "text": [
      "Couldn't import dot_parser, loading of dot files will not be possible.\n",
      "111\n",
      "155\n",
      "26\n",
      "37\n"
     ]
    },
    {
     "name": "stderr",
     "output_type": "stream",
     "text": [
      "/home/notebook/.venv/lib/python2.7/site-packages/numpy/core/numeric.py:462: ComplexWarning: Casting complex values to real discards the imaginary part\n",
      "  return array(a, dtype, copy=False, order=order)\n"
     ]
    }
   ],
   "source": [
    "import theano\n",
    "from theano import tensor as T\n",
    "from theano.sandbox.rng_mrg import MRG_RandomStreams as RandomStreams\n",
    "import numpy as np\n",
    "from loadfft import getData\n",
    "\n",
    "srng = RandomStreams()\n",
    "\n",
    "def floatX(X):\n",
    "    return np.asarray(X, dtype=theano.config.floatX)\n",
    "\n",
    "def init_weights(shape):\n",
    "    return theano.shared(floatX(np.random.randn(*shape) * 0.01))\n",
    "\n",
    "def rectify(X):\n",
    "    return T.maximum(X, 0.)\n",
    "\n",
    "def softmax(X):\n",
    "    e_x = T.exp(X - X.max(axis=1).dimshuffle(0, 'x'))\n",
    "    return e_x / e_x.sum(axis=1).dimshuffle(0, 'x')\n",
    "\n",
    "def RMSprop(cost, params, lr=0.001, rho=0.9, epsilon=1e-6):\n",
    "    grads = T.grad(cost=cost, wrt=params)\n",
    "    updates = []\n",
    "    for p, g in zip(params, grads):\n",
    "        acc = theano.shared(p.get_value() * 0.)\n",
    "        acc_new = rho * acc + (1 - rho) * g ** 2\n",
    "        gradient_scaling = T.sqrt(acc_new + epsilon)\n",
    "        g = g / gradient_scaling\n",
    "        updates.append((acc, acc_new))\n",
    "        updates.append((p, p - lr * g))\n",
    "    return updates\n",
    "\n",
    "def dropout(X, p=0.):\n",
    "    if p > 0:\n",
    "        retain_prob = 1 - p\n",
    "        X *= srng.binomial(X.shape, p=retain_prob, dtype=theano.config.floatX)\n",
    "        X /= retain_prob\n",
    "    return X\n",
    "\n",
    "def model(X, w_h, w_h2,w_h3, w_o, p_drop_input, p_drop_hidden):\n",
    "    X = dropout(X, p_drop_input)\n",
    "    h = rectify(T.dot(X, w_h))\n",
    "\n",
    "    h = dropout(h, p_drop_hidden)\n",
    "    h2 = rectify(T.dot(h, w_h2))\n",
    "\n",
    "    h2 = dropout(h2, p_drop_hidden)\n",
    "    h3= rectify(T.dot(h2, w_h3))\n",
    "\n",
    "    h3 = dropout(h3, p_drop_hidden)\n",
    "    py_x = softmax(T.dot(h3, w_o))\n",
    "    return h, h2,h3, py_x\n",
    "\n",
    "trX,trY,teX,teY = getData(20)\n",
    "\n",
    "X = T.fmatrix()\n",
    "Y = T.fmatrix()\n",
    "\n",
    "w_h = init_weights((93, 625))\n",
    "w_h2 = init_weights((625, 625))\n",
    "w_h3=init_weights((625, 625))\n",
    "w_o = init_weights((625, 4))\n",
    "\n",
    "noise_h, noise_h2,noise_h3, noise_py_x = model(X, w_h, w_h2,w_h3, w_o, 0.2, 0.5)\n",
    "h, h2,h3, py_x = model(X, w_h, w_h2,w_h3, w_o, 0., 0.)\n",
    "y_x = T.argmax(py_x, axis=1)\n",
    "\n",
    "cost = T.mean(T.nnet.categorical_crossentropy(noise_py_x, Y))\n",
    "params = [w_h, w_h2,w_h3, w_o]\n",
    "updates = RMSprop(cost, params, lr=0.001)\n",
    "\n",
    "train = theano.function(inputs=[X, Y], outputs=cost, updates=updates, allow_input_downcast=True)\n",
    "predict = theano.function(inputs=[X], outputs=y_x, allow_input_downcast=True)\n"
   ]
  },
  {
   "cell_type": "code",
   "execution_count": 2,
   "metadata": {
    "collapsed": false
   },
   "outputs": [
    {
     "name": "stdout",
     "output_type": "stream",
     "text": [
      "327\n",
      "0 0.782874617737 0.607594936709\n",
      "1 0.770642201835 0.582278481013\n",
      "2 0.85626911315 0.651898734177\n",
      "3 0.85626911315 0.550632911392\n",
      "4 0.889908256881 0.651898734177\n",
      "5 0.868501529052 0.607594936709\n",
      "6 0.889908256881 0.70253164557\n",
      "7 0.905198776758 0.651898734177\n",
      "8 0.917431192661 0.70253164557\n",
      "9 0.908256880734 0.588607594937\n",
      "10 0.926605504587 0.613924050633\n",
      "11 0.917431192661 0.620253164557\n",
      "12 0.935779816514 0.601265822785\n",
      "13 0.923547400612 0.563291139241\n",
      "14 0.929663608563 0.613924050633\n",
      "15 0.954128440367 0.639240506329\n",
      "16 0.938837920489 0.607594936709\n",
      "17 0.94495412844 0.613924050633\n",
      "18 0.969418960245 0.626582278481\n",
      "19 0.963302752294 0.626582278481\n",
      "20 0.960244648318 0.613924050633\n",
      "21 0.963302752294 0.626582278481\n",
      "22 0.963302752294 0.632911392405\n",
      "23 0.966360856269 0.626582278481\n",
      "24 0.966360856269 0.645569620253\n",
      "25 0.975535168196 0.639240506329\n",
      "26 0.975535168196 0.613924050633\n",
      "27 0.969418960245 0.658227848101\n",
      "28 0.960244648318 0.645569620253\n",
      "29 0.966360856269 0.620253164557\n",
      "30 0.97247706422 0.651898734177\n",
      "31 0.963302752294 0.582278481013\n",
      "32 0.969418960245 0.601265822785\n",
      "33 0.960244648318 0.626582278481\n",
      "34 0.969418960245 0.626582278481\n",
      "35 0.975535168196 0.607594936709\n",
      "36 0.969418960245 0.601265822785\n",
      "37 0.975535168196 0.670886075949\n",
      "38 0.978593272171 0.632911392405\n",
      "39 0.975535168196 0.626582278481\n",
      "40 0.969418960245 0.613924050633\n",
      "41 0.97247706422 0.651898734177\n",
      "42 0.975535168196 0.645569620253\n",
      "43 0.963302752294 0.613924050633\n",
      "44 0.963302752294 0.601265822785\n",
      "45 0.984709480122 0.645569620253\n",
      "46 0.978593272171 0.613924050633\n",
      "47 0.975535168196 0.658227848101\n",
      "48 0.984709480122 0.632911392405\n",
      "49 0.97247706422 0.601265822785\n",
      "50 0.981651376147 0.607594936709\n",
      "51 0.97247706422 0.651898734177\n",
      "52 0.981651376147 0.658227848101\n",
      "53 0.975535168196 0.658227848101\n",
      "54 0.984709480122 0.639240506329\n",
      "55 0.978593272171 0.639240506329\n",
      "56 0.978593272171 0.632911392405\n",
      "57 0.987767584098 0.651898734177\n",
      "58 0.993883792049 0.651898734177\n",
      "59 0.981651376147 0.664556962025\n",
      "60 0.990825688073 0.639240506329\n",
      "61 0.987767584098 0.639240506329\n",
      "62 0.993883792049 0.613924050633\n",
      "63 0.990825688073 0.677215189873\n",
      "64 0.993883792049 0.626582278481\n",
      "65 0.963302752294 0.550632911392\n",
      "66 0.981651376147 0.607594936709\n",
      "67 0.987767584098 0.613924050633\n",
      "68 0.97247706422 0.607594936709\n",
      "69 0.990825688073 0.658227848101\n",
      "70 0.993883792049 0.626582278481\n",
      "71 0.993883792049 0.645569620253\n",
      "72 0.993883792049 0.601265822785\n",
      "73 0.993883792049 0.620253164557\n",
      "74 0.987767584098 0.575949367089\n",
      "75 0.990825688073 0.626582278481\n",
      "76 0.981651376147 0.582278481013\n",
      "77 0.990825688073 0.664556962025\n",
      "78 0.990825688073 0.632911392405\n",
      "79 0.990825688073 0.670886075949\n",
      "80 0.990825688073 0.683544303797\n",
      "81 0.975535168196 0.601265822785\n",
      "82 0.987767584098 0.620253164557\n",
      "83 0.993883792049 0.651898734177\n",
      "84 0.990825688073 0.658227848101\n",
      "85 0.978593272171 0.632911392405\n",
      "86 0.987767584098 0.632911392405\n",
      "87 0.987767584098 0.607594936709\n",
      "88 0.993883792049 0.651898734177\n",
      "89 0.990825688073 0.670886075949\n",
      "90 0.993883792049 0.632911392405\n",
      "91 0.993883792049 0.670886075949\n",
      "92 0.993883792049 0.677215189873\n",
      "93 0.987767584098 0.670886075949\n",
      "94 0.987767584098 0.620253164557\n",
      "95 0.993883792049 0.670886075949\n",
      "96 0.993883792049 0.632911392405\n",
      "97 0.996941896024 0.715189873418\n",
      "98 0.993883792049 0.632911392405\n",
      "99 0.990825688073 0.620253164557\n",
      "predict trX\n",
      "[0 1 2 1 1 1 1 3 1 3 0 1 3 1 0 0 0 0 1 1 1 1 2 1 0 3 0 0 3 1 1 0 0 0 0 0 1\n",
      " 1 1 2 1 0 0 1 3 1 0 3 1 1 0 1 3 3 1 3 1 0 0 1 1 3 0 2 1 0 0 3 0 1 0 0 1 0\n",
      " 0 1 1 0 1 1 1 0 1 1 0 0 2 1 1 2 0 1 0 1 1 3 0 1 3 0 1 3 0 1 2 1 1 0 3 1 0\n",
      " 1 1 1 1 0 3 2 1 0 0 1 1 0 1 1 1 1 3 0 1 0 1 1 3 0 2 0 3 1 0 1 0 2 2 2 0 0\n",
      " 0 0 1 0 2 1 0 0 1 0 1 1 0 0 1 1 3 3 2 2 0 1 1 0 0 0 1 0 0 1 0 2 1 1 1 1 1\n",
      " 2 1 1 0 0 1 1 1 0 1 1 1 3 2 1 1 1 1 1 3 2 0 1 3 1 1 1 1 1 1 0 1 1 0 3 0 1\n",
      " 0 0 1 1 1 1 1 1 1 3 1 0 1 0 0 0 0 1 1 0 2 0 3 0 0 3 0 2 1 0 1 0 3 3 1 0 0\n",
      " 0 1 1 1 1 3 1 0 1 0 1 1 2 1 1 0 1 1 1 1 3 0 1 1 0 1 0 0 0 0 0 0 2 0 0 3 0\n",
      " 1 1 3 1 1 1 0 0 0 1 0 1 1 0 0 1 1 1 2 1 2 1 0 1 2 1 1 1 0 1 0]\n",
      "predict teX\n",
      "[0 0 0 0 0 0 0 0 0 0 0 0 0 0 0 0 0 0 0 0 0 0 0 0 0 0 0 0 0 0 0 0 0 0 0 2 0\n",
      " 0 0 0 0 0 0 0 0 0 0 0 0 0 0 0 0 1 1 1 1 1 1 1 1 1 1 1 1 1 1 1 0 2 1 1 1 1\n",
      " 1 1 1 0 0 0 0 0 0 1 0 2 0 0 0 0 0 1 2 2 0 0 0 0 1 0 2 0 1 2 0 0 2 0 0 2 2\n",
      " 0 0 2 0 0 2 0 2 0 2 2 0 2 2 2 2 0 0 0 0 0 0 0 2 0 2 0 0 2 2 3 3 3 3 3 3 3\n",
      " 3 1 3 3 3 3 3 3 3 3]\n",
      "teY\n",
      "[0 0 0 0 0 0 0 0 0 0 0 0 0 0 0 0 0 0 0 0 0 0 0 0 0 0 0 0 0 0 0 0 0 0 0 0 0\n",
      " 0 0 0 0 0 0 0 0 0 0 0 0 0 0 0 0 1 1 1 1 1 1 1 1 1 1 1 1 1 1 1 1 1 1 1 1 1\n",
      " 1 1 1 1 1 1 1 1 1 1 1 1 1 1 1 1 1 1 1 1 1 1 1 1 1 1 1 1 1 1 1 1 1 1 1 1 1\n",
      " 1 1 1 1 1 1 1 1 1 1 1 1 1 1 1 1 1 1 2 2 2 2 2 2 2 2 2 2 2 2 3 3 3 3 3 3 3\n",
      " 3 3 3 3 3 3 3 3 3 3]\n"
     ]
    }
   ],
   "source": [
    "print(len(trX))\n",
    "for i in range(100):\n",
    "    for start, end in zip(range(0, len(trX), 10), range(10, len(trX), 10)):\n",
    "        cost = train(trX[start:end], trY[start:end])\n",
    "    print i,np.mean(np.argmax(trY, axis=1) == predict(trX)),np.mean(np.argmax(teY, axis=1) == predict(teX))\n",
    "    if i==99:\n",
    "        print(\"predict trX\")\n",
    "        print(predict(trX))\n",
    "        print(\"predict teX\")\n",
    "        print(predict(teX))\n",
    "        print(\"teY\")\n",
    "        print(np.argmax(teY, axis=1))"
   ]
  },
  {
   "cell_type": "code",
   "execution_count": 6,
   "metadata": {
    "collapsed": false
   },
   "outputs": [
    {
     "data": {
      "text/plain": [
       "[1, 2]"
      ]
     },
     "execution_count": 6,
     "metadata": {},
     "output_type": "execute_result"
    }
   ],
   "source": [
    "range(1,3)\n"
   ]
  },
  {
   "cell_type": "code",
   "execution_count": 12,
   "metadata": {
    "collapsed": false
   },
   "outputs": [
    {
     "data": {
      "text/plain": [
       "array([], dtype=float64)"
      ]
     },
     "execution_count": 12,
     "metadata": {},
     "output_type": "execute_result"
    }
   ],
   "source": [
    "import numpy as np\n",
    "np.array([])\n"
   ]
  },
  {
   "cell_type": "code",
   "execution_count": 13,
   "metadata": {
    "collapsed": false
   },
   "outputs": [
    {
     "data": {
      "text/plain": [
       "1"
      ]
     },
     "execution_count": 13,
     "metadata": {},
     "output_type": "execute_result"
    }
   ],
   "source": [
    "++1\n"
   ]
  },
  {
   "cell_type": "code",
   "execution_count": 14,
   "metadata": {
    "collapsed": true
   },
   "outputs": [],
   "source": [
    "a=1"
   ]
  },
  {
   "cell_type": "code",
   "execution_count": 15,
   "metadata": {
    "collapsed": false
   },
   "outputs": [
    {
     "data": {
      "text/plain": [
       "1"
      ]
     },
     "execution_count": 15,
     "metadata": {},
     "output_type": "execute_result"
    }
   ],
   "source": [
    "++a"
   ]
  },
  {
   "cell_type": "code",
   "execution_count": 16,
   "metadata": {
    "collapsed": false
   },
   "outputs": [
    {
     "data": {
      "text/plain": [
       "1"
      ]
     },
     "execution_count": 16,
     "metadata": {},
     "output_type": "execute_result"
    }
   ],
   "source": [
    "++a"
   ]
  },
  {
   "cell_type": "code",
   "execution_count": 17,
   "metadata": {
    "collapsed": true
   },
   "outputs": [],
   "source": [
    "a+=1"
   ]
  },
  {
   "cell_type": "code",
   "execution_count": 18,
   "metadata": {
    "collapsed": false
   },
   "outputs": [
    {
     "data": {
      "text/plain": [
       "2"
      ]
     },
     "execution_count": 18,
     "metadata": {},
     "output_type": "execute_result"
    }
   ],
   "source": [
    "a\n"
   ]
  },
  {
   "cell_type": "code",
   "execution_count": null,
   "metadata": {
    "collapsed": true
   },
   "outputs": [],
   "source": []
  }
 ],
 "metadata": {
  "kernelspec": {
   "display_name": "Python 2",
   "language": "python",
   "name": "python2"
  },
  "language_info": {
   "codemirror_mode": {
    "name": "ipython",
    "version": 2
   },
   "file_extension": ".py",
   "mimetype": "text/x-python",
   "name": "python",
   "nbconvert_exporter": "python",
   "pygments_lexer": "ipython2",
   "version": "2.7.9"
  }
 },
 "nbformat": 4,
 "nbformat_minor": 0
}
