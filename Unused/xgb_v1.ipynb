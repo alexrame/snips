{
 "cells": [
  {
   "cell_type": "code",
   "execution_count": 8,
   "metadata": {
    "collapsed": false
   },
   "outputs": [
    {
     "name": "stdout",
     "output_type": "stream",
     "text": [
      "2224\n",
      "3106\n",
      "536\n",
      "759\n"
     ]
    }
   ],
   "source": [
    "import numpy as np\n",
    "from loadfft import getData\n",
    "import xgboost as xgb\n",
    "import pandas as pd\n",
    "from sklearn import preprocessing\n",
    "from sklearn import cross_validation\n",
    "import pickle\n",
    "import os.path\n",
    "import scipy\n",
    "import random\n",
    "\n",
    "trX,trY,teX,teY = getData(oh=0)"
   ]
  },
  {
   "cell_type": "code",
   "execution_count": 9,
   "metadata": {
    "collapsed": false
   },
   "outputs": [
    {
     "name": "stdout",
     "output_type": "stream",
     "text": [
      "(4283, 93)\n",
      "(2141, 93)\n",
      "(4283,)\n",
      "(2141,)\n"
     ]
    }
   ],
   "source": [
    "print trX.shape\n",
    "print teX.shape\n",
    "print trY.shape\n",
    "print teY.shape"
   ]
  },
  {
   "cell_type": "code",
   "execution_count": 10,
   "metadata": {
    "collapsed": false
   },
   "outputs": [
    {
     "name": "stderr",
     "output_type": "stream",
     "text": [
      "/home/notebook/.venv/lib/python2.7/site-packages/xgboost-0.32-py2.7.egg/xgboost.py:157: ComplexWarning: Casting complex values to real discards the imaginary part\n",
      "  data = np.array(mat.reshape(mat.size), dtype=np.float32)\n"
     ]
    }
   ],
   "source": [
    "dtrain = xgb.DMatrix(trX, label = trY)\n",
    "dtest = xgb.DMatrix(teX, label = teY)"
   ]
  },
  {
   "cell_type": "code",
   "execution_count": 11,
   "metadata": {
    "collapsed": false
   },
   "outputs": [
    {
     "name": "stdout",
     "output_type": "stream",
     "text": [
      "{'num_class': 4, 'silent': 1, 'nthread': 4, 'eta': 0.1, 'objective': 'multi:softmax', 'max_depth': 6}\n"
     ]
    }
   ],
   "source": [
    "param = {}\n",
    "# use softmax multi-class classification\n",
    "param['objective'] = 'multi:softmax'\n",
    "# scale weight of positive examples\n",
    "param['eta'] = 0.1\n",
    "param['max_depth'] = 6\n",
    "param['silent'] = 1\n",
    "param['nthread'] = 4\n",
    "param['num_class'] = 4\n",
    "print param"
   ]
  },
  {
   "cell_type": "code",
   "execution_count": 12,
   "metadata": {
    "collapsed": false
   },
   "outputs": [
    {
     "name": "stderr",
     "output_type": "stream",
     "text": [
      "[0]\ttrain-merror:0.114639\ttest-merror:0.178421\n",
      "[1]\ttrain-merror:0.107401\ttest-merror:0.167212\n",
      "[2]\ttrain-merror:0.104366\ttest-merror:0.163008\n",
      "[3]\ttrain-merror:0.100864\ttest-merror:0.158804\n",
      "[4]\ttrain-merror:0.097128\ttest-merror:0.152265\n",
      "[5]\ttrain-merror:0.090124\ttest-merror:0.148996\n",
      "[6]\ttrain-merror:0.085688\ttest-merror:0.141056\n",
      "[7]\ttrain-merror:0.079617\ttest-merror:0.137319\n",
      "[8]\ttrain-merror:0.078450\ttest-merror:0.132648\n",
      "[9]\ttrain-merror:0.075648\ttest-merror:0.127043\n",
      "[10]\ttrain-merror:0.073080\ttest-merror:0.128445\n",
      "[11]\ttrain-merror:0.068177\ttest-merror:0.120504\n",
      "[12]\ttrain-merror:0.067009\ttest-merror:0.117235\n",
      "[13]\ttrain-merror:0.065608\ttest-merror:0.117235\n",
      "[14]\ttrain-merror:0.063273\ttest-merror:0.115367\n",
      "[15]\ttrain-merror:0.061406\ttest-merror:0.113965\n",
      "[16]\ttrain-merror:0.060005\ttest-merror:0.115367\n",
      "[17]\ttrain-merror:0.058604\ttest-merror:0.111630\n",
      "[18]\ttrain-merror:0.056736\ttest-merror:0.110696\n",
      "[19]\ttrain-merror:0.054635\ttest-merror:0.110696\n",
      "[20]\ttrain-merror:0.053234\ttest-merror:0.109762\n",
      "[21]\ttrain-merror:0.050432\ttest-merror:0.109295\n",
      "[22]\ttrain-merror:0.049265\ttest-merror:0.106959\n",
      "[23]\ttrain-merror:0.049265\ttest-merror:0.107894\n",
      "[24]\ttrain-merror:0.048564\ttest-merror:0.106959\n",
      "[25]\ttrain-merror:0.046229\ttest-merror:0.105091\n",
      "[26]\ttrain-merror:0.043894\ttest-merror:0.104157\n",
      "[27]\ttrain-merror:0.041793\ttest-merror:0.103223\n",
      "[28]\ttrain-merror:0.041093\ttest-merror:0.102756\n",
      "[29]\ttrain-merror:0.040626\ttest-merror:0.100887\n",
      "[30]\ttrain-merror:0.038291\ttest-merror:0.099486\n",
      "[31]\ttrain-merror:0.037590\ttest-merror:0.098085\n",
      "[32]\ttrain-merror:0.035489\ttest-merror:0.097618\n",
      "[33]\ttrain-merror:0.034789\ttest-merror:0.095750\n",
      "[34]\ttrain-merror:0.034088\ttest-merror:0.094348\n",
      "[35]\ttrain-merror:0.032220\ttest-merror:0.093881\n",
      "[36]\ttrain-merror:0.030586\ttest-merror:0.093881\n",
      "[37]\ttrain-merror:0.029419\ttest-merror:0.092480\n",
      "[38]\ttrain-merror:0.028718\ttest-merror:0.091079\n",
      "[39]\ttrain-merror:0.027551\ttest-merror:0.089678\n",
      "[40]\ttrain-merror:0.026850\ttest-merror:0.088744\n",
      "[41]\ttrain-merror:0.024749\ttest-merror:0.087342\n",
      "[42]\ttrain-merror:0.023348\ttest-merror:0.088744\n",
      "[43]\ttrain-merror:0.021714\ttest-merror:0.087809\n",
      "[44]\ttrain-merror:0.019846\ttest-merror:0.086875\n",
      "[45]\ttrain-merror:0.019379\ttest-merror:0.087342\n",
      "[46]\ttrain-merror:0.018912\ttest-merror:0.087809\n",
      "[47]\ttrain-merror:0.017511\ttest-merror:0.086408\n",
      "[48]\ttrain-merror:0.016811\ttest-merror:0.085474\n",
      "[49]\ttrain-merror:0.016110\ttest-merror:0.085007\n",
      "[50]\ttrain-merror:0.015410\ttest-merror:0.085474\n",
      "[51]\ttrain-merror:0.014943\ttest-merror:0.083606\n",
      "[52]\ttrain-merror:0.014943\ttest-merror:0.083139\n",
      "[53]\ttrain-merror:0.014009\ttest-merror:0.081738\n",
      "[54]\ttrain-merror:0.014009\ttest-merror:0.081738\n",
      "[55]\ttrain-merror:0.012608\ttest-merror:0.079869\n",
      "[56]\ttrain-merror:0.012141\ttest-merror:0.080336\n",
      "[57]\ttrain-merror:0.011441\ttest-merror:0.080803\n",
      "[58]\ttrain-merror:0.011441\ttest-merror:0.080803\n",
      "[59]\ttrain-merror:0.011207\ttest-merror:0.079869\n",
      "[60]\ttrain-merror:0.009806\ttest-merror:0.078468\n",
      "[61]\ttrain-merror:0.009806\ttest-merror:0.078935\n",
      "[62]\ttrain-merror:0.009806\ttest-merror:0.078468\n",
      "[63]\ttrain-merror:0.009573\ttest-merror:0.078001\n",
      "[64]\ttrain-merror:0.008639\ttest-merror:0.078935\n",
      "[65]\ttrain-merror:0.008405\ttest-merror:0.078935\n",
      "[66]\ttrain-merror:0.007471\ttest-merror:0.078935\n",
      "[67]\ttrain-merror:0.005604\ttest-merror:0.078001\n",
      "[68]\ttrain-merror:0.005604\ttest-merror:0.078001\n",
      "[69]\ttrain-merror:0.005370\ttest-merror:0.078468\n",
      "[70]\ttrain-merror:0.005370\ttest-merror:0.078935\n",
      "[71]\ttrain-merror:0.005370\ttest-merror:0.078935\n",
      "[72]\ttrain-merror:0.004903\ttest-merror:0.078001\n",
      "[73]\ttrain-merror:0.004903\ttest-merror:0.077534\n",
      "[74]\ttrain-merror:0.004436\ttest-merror:0.078001\n",
      "[75]\ttrain-merror:0.003736\ttest-merror:0.077534\n",
      "[76]\ttrain-merror:0.003502\ttest-merror:0.077067\n",
      "[77]\ttrain-merror:0.003269\ttest-merror:0.077067\n",
      "[78]\ttrain-merror:0.003035\ttest-merror:0.076133\n",
      "[79]\ttrain-merror:0.002802\ttest-merror:0.075666\n",
      "[80]\ttrain-merror:0.002802\ttest-merror:0.076600\n",
      "[81]\ttrain-merror:0.002802\ttest-merror:0.075199\n",
      "[82]\ttrain-merror:0.002802\ttest-merror:0.075199\n",
      "[83]\ttrain-merror:0.002802\ttest-merror:0.074731\n",
      "[84]\ttrain-merror:0.002568\ttest-merror:0.075199\n",
      "[85]\ttrain-merror:0.002568\ttest-merror:0.074731\n",
      "[86]\ttrain-merror:0.002568\ttest-merror:0.074731\n",
      "[87]\ttrain-merror:0.002568\ttest-merror:0.074264\n",
      "[88]\ttrain-merror:0.002335\ttest-merror:0.074731\n",
      "[89]\ttrain-merror:0.002335\ttest-merror:0.074264\n",
      "[90]\ttrain-merror:0.002335\ttest-merror:0.074731\n",
      "[91]\ttrain-merror:0.002101\ttest-merror:0.074264\n",
      "[92]\ttrain-merror:0.002101\ttest-merror:0.074264\n",
      "[93]\ttrain-merror:0.001634\ttest-merror:0.074264\n",
      "[94]\ttrain-merror:0.001634\ttest-merror:0.074731\n",
      "[95]\ttrain-merror:0.001401\ttest-merror:0.074731\n",
      "[96]\ttrain-merror:0.001167\ttest-merror:0.074264\n",
      "[97]\ttrain-merror:0.001167\ttest-merror:0.074264\n",
      "[98]\ttrain-merror:0.001167\ttest-merror:0.074264\n",
      "[99]\ttrain-merror:0.001167\ttest-merror:0.074264\n"
     ]
    }
   ],
   "source": [
    "watchlist = [ (dtrain,'train'), (dtest, 'test') ]\n",
    "num_round = 100\n",
    "bst = xgb.train(param, dtrain, num_round, watchlist);"
   ]
  },
  {
   "cell_type": "code",
   "execution_count": null,
   "metadata": {
    "collapsed": true
   },
   "outputs": [],
   "source": [
    "0.061186"
   ]
  },
  {
   "cell_type": "code",
   "execution_count": 6,
   "metadata": {
    "collapsed": false
   },
   "outputs": [],
   "source": [
    "param2= [\n",
    "        ('bst:max_depth', 10),\n",
    "        ('objective', 'multi:softprob'),\n",
    "        ('silent', 1),\n",
    "        ('bst:eta', 0.1),\n",
    "        #('eval_metric', 'mlogloss'),\n",
    "        ('num_class', 4)\n",
    "]"
   ]
  },
  {
   "cell_type": "code",
   "execution_count": 7,
   "metadata": {
    "collapsed": false
   },
   "outputs": [],
   "source": [
    "#bst = xgb.train(param2, dtrain, num_round, watchlist );\n"
   ]
  },
  {
   "cell_type": "code",
   "execution_count": 3,
   "metadata": {
    "collapsed": false
   },
   "outputs": [
    {
     "data": {
      "text/plain": [
       "{'bst:colsample_bytree': <scipy.stats._distn_infrastructure.rv_frozen at 0x7fd2d1ec60d0>,\n",
       " 'bst:eta': <scipy.stats._distn_infrastructure.rv_frozen at 0x7fd2d1ec5c50>,\n",
       " 'bst:max_depth': <scipy.stats._distn_infrastructure.rv_frozen at 0x7fd2d1ec5a50>,\n",
       " 'bst:subsample': <scipy.stats._distn_infrastructure.rv_frozen at 0x7fd2d1ec5d50>,\n",
       " 'early_stopping': 100,\n",
       " 'n_round': 800}"
      ]
     },
     "execution_count": 3,
     "metadata": {},
     "output_type": "execute_result"
    }
   ],
   "source": []
  },
  {
   "cell_type": "code",
   "execution_count": 4,
   "metadata": {
    "collapsed": false
   },
   "outputs": [],
   "source": []
  },
  {
   "cell_type": "code",
   "execution_count": null,
   "metadata": {
    "collapsed": true
   },
   "outputs": [],
   "source": []
  }
 ],
 "metadata": {
  "kernelspec": {
   "display_name": "Python 2",
   "language": "python",
   "name": "python2"
  },
  "language_info": {
   "codemirror_mode": {
    "name": "ipython",
    "version": 2
   },
   "file_extension": ".py",
   "mimetype": "text/x-python",
   "name": "python",
   "nbconvert_exporter": "python",
   "pygments_lexer": "ipython2",
   "version": "2.7.9"
  }
 },
 "nbformat": 4,
 "nbformat_minor": 0
}
